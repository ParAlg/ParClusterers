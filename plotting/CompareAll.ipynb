{
 "cells": [
  {
   "cell_type": "code",
   "execution_count": 1,
   "id": "2c2a4a5e",
   "metadata": {},
   "outputs": [],
   "source": [
    "import math\n",
    "import pandas as pd\n",
    "import seaborn as sns\n",
    "import matplotlib\n",
    "import matplotlib.pyplot as plt\n",
    "import re\n",
    "import numpy as np\n",
    "plt.rcParams['ps.useafm'] = True\n",
    "plt.rcParams['pdf.use14corefonts'] = True\n",
    "plt.rcParams['text.usetex'] = True\n",
    "# sudo apt-get install texlive-latex-base texlive-fonts-recommended texlive-fonts-extra texlive-latex-extra\n",
    "fontsize=25\n"
   ]
  },
  {
   "cell_type": "code",
   "execution_count": 2,
   "id": "e171fe45",
   "metadata": {},
   "outputs": [],
   "source": [
    "base_address = \"Users/sy/Desktop/MIT/clusterer/csv/\""
   ]
  },
  {
   "cell_type": "code",
   "execution_count": null,
   "id": "62fb0c08",
   "metadata": {},
   "outputs": [],
   "source": [
    "df_lp_stats = pd.read_csv(base_address + \"Graph Clustering Framework  - label_stats.csv\")\n",
    "df_lp_time = pd.read_csv(base_address + \"Graph Clustering Framework  - label_time.csv\")"
   ]
  }
 ],
 "metadata": {
  "kernelspec": {
   "display_name": "Python 3 (ipykernel)",
   "language": "python",
   "name": "python3"
  },
  "language_info": {
   "codemirror_mode": {
    "name": "ipython",
    "version": 3
   },
   "file_extension": ".py",
   "mimetype": "text/x-python",
   "name": "python",
   "nbconvert_exporter": "python",
   "pygments_lexer": "ipython3",
   "version": "3.9.12"
  }
 },
 "nbformat": 4,
 "nbformat_minor": 5
}
