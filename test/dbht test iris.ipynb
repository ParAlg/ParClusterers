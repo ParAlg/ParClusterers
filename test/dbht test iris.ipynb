{
 "cells": [
  {
   "cell_type": "code",
   "execution_count": 1,
   "id": "894dad57",
   "metadata": {},
   "outputs": [],
   "source": [
    "from scipy.sparse import csr_matrix\n",
    "from scipy.sparse.csgraph import shortest_path\n",
    "import scipy.io\n",
    "import numpy as np"
   ]
  },
  {
   "cell_type": "markdown",
   "id": "571d5a61",
   "metadata": {},
   "source": [
    "# shortest path"
   ]
  },
  {
   "cell_type": "code",
   "execution_count": 2,
   "id": "e86f115c",
   "metadata": {},
   "outputs": [],
   "source": [
    "def getFileNameP(dataset, prefix, method):\n",
    "    if method != \"prefix\":\n",
    "        return \"Ps/%s-%s-P-0\" %(dataset, method)\n",
    "    return \"Ps/%s-%s-P-%s-0\" %(dataset, method, prefix)\n",
    "def getCSR(dataset, prefix ,method, conflag=False):\n",
    "    file = \"outputs/\" + getFileNameP(dataset, prefix, method)\n",
    "    f1 = open(file)  \n",
    "    data1 = f1.read().split(\"\\n\")\n",
    "    \n",
    "    row = []\n",
    "    col =  []\n",
    "    data =  []\n",
    "    \n",
    "    for dp in data1:\n",
    "        dps = dp.split()\n",
    "        if(len(dps)>0):\n",
    "            i = int(dps[0])-1\n",
    "            j = int(dps[1]) -1   \n",
    "            k = float(dps[2])  \n",
    "            if(k != 0):\n",
    "                if conflag:\n",
    "                    k=1\n",
    "                row.append(i)\n",
    "                col.append(j)\n",
    "                data.append(k)\n",
    "                row.append(j)\n",
    "                col.append(i)\n",
    "                data.append(k)\n",
    "        else:\n",
    "            print(dps)\n",
    "    n = max(row)+1\n",
    "    X = csr_matrix((data, (row, col)), shape=(n, n))\n",
    "    return X\n",
    "\n",
    "\n",
    "def getCSRDistance(dataset, prefix ,method, conflag=False):\n",
    "    file = \"outputs/\" + getFileNameP(dataset, prefix, method)\n",
    "    f1 = open(file)  \n",
    "    mat = scipy.io.loadmat('datasets/iris-D-city.mat')['D']\n",
    "    data1 = f1.read().split(\"\\n\")\n",
    "    \n",
    "    row = []\n",
    "    col =  []\n",
    "    data =  []\n",
    "    \n",
    "    for dp in data1:\n",
    "        dps = dp.split()\n",
    "        if(len(dps)>0):\n",
    "            i = int(dps[0])-1\n",
    "            j = int(dps[1]) -1   \n",
    "#             k = float(dps[2])  \n",
    "            k = mat[i,j]\n",
    "            if(k != 0):\n",
    "                if conflag:\n",
    "                    k=1\n",
    "                row.append(i)\n",
    "                col.append(j)\n",
    "                data.append(k)\n",
    "                row.append(j)\n",
    "                col.append(i)\n",
    "                data.append(k)\n",
    "        else:\n",
    "            print(dps)\n",
    "    n = max(row)+1\n",
    "    X = csr_matrix((data, (row, col)), shape=(n, n))\n",
    "    return X"
   ]
  },
  {
   "cell_type": "code",
   "execution_count": null,
   "id": "b9667ed2",
   "metadata": {},
   "outputs": [],
   "source": []
  },
  {
   "cell_type": "code",
   "execution_count": 3,
   "id": "5e262966",
   "metadata": {},
   "outputs": [],
   "source": [
    "file = \"outputs/\" + getFileNameP(\"iris-R-city\", \"\" ,\"exact\")\n",
    "f1 = open(file)  \n",
    "data1 = f1.read().split(\"\\n\")\n",
    "mat = scipy.io.loadmat('datasets/iris-D-city.mat')['D']\n",
    "# mat2 = np.genfromtxt('datasets/iris-D-city')"
   ]
  },
  {
   "cell_type": "code",
   "execution_count": 12,
   "id": "4b135153",
   "metadata": {},
   "outputs": [
    {
     "name": "stdout",
     "output_type": "stream",
     "text": [
      "[]\n"
     ]
    }
   ],
   "source": [
    "g = getCSRDistance(\"iris-R-city\", \"\" ,\"exact\", conflag=False)\n",
    "dist_matrix, predecessors = shortest_path(csgraph=g, directed=False, indices=1, return_predecessors=True)"
   ]
  },
  {
   "cell_type": "markdown",
   "id": "43475d27",
   "metadata": {},
   "source": [
    "## pmfg"
   ]
  },
  {
   "cell_type": "code",
   "execution_count": 27,
   "id": "013fd977",
   "metadata": {},
   "outputs": [],
   "source": [
    "mat = scipy.io.loadmat('debug/iris-pmfg-P-0.mat')\n",
    "my_pmfg = np.genfromtxt(\"./outputs/Ps/irisRand-pmfg-P-0\", delimiter = \" \")"
   ]
  },
  {
   "cell_type": "code",
   "execution_count": 35,
   "id": "d10904d6",
   "metadata": {},
   "outputs": [
    {
     "data": {
      "text/plain": [
       "array([ 10, 102, 143], dtype=uint8)"
      ]
     },
     "execution_count": 35,
     "metadata": {},
     "output_type": "execute_result"
    }
   ],
   "source": [
    "us[orders][-3:]"
   ]
  },
  {
   "cell_type": "code",
   "execution_count": 36,
   "id": "cfa8ad4e",
   "metadata": {},
   "outputs": [
    {
     "data": {
      "text/plain": [
       "array([ 38, 143, 102], dtype=uint8)"
      ]
     },
     "execution_count": 36,
     "metadata": {},
     "output_type": "execute_result"
    }
   ],
   "source": [
    "vs[orders][-3:]"
   ]
  },
  {
   "cell_type": "code",
   "execution_count": 41,
   "id": "8a8e6aab",
   "metadata": {},
   "outputs": [],
   "source": [
    "us = mat[\"r\"].flatten()\n",
    "vs = mat[\"c\"].flatten()\n",
    "vals = mat[\"val\"].flatten()\n",
    "orders = np.argsort(vals)\n",
    "j = 0\n",
    "for k in range(len(orders)//2):\n",
    "    i = len(orders)-2*k-1\n",
    "    u = us[orders[i]]\n",
    "    v = vs[orders[i]]\n",
    "    if u > v:\n",
    "        u,v=v,u\n",
    "    if(u!= my_pmfg[j][0] or v!= my_pmfg[j][1]):\n",
    "        print(u,v,i)\n",
    "        print(my_pmfg[j][0], my_pmfg[j][1],j)\n",
    "        break\n",
    "    j=j+1"
   ]
  },
  {
   "cell_type": "code",
   "execution_count": 44,
   "id": "61b83eca",
   "metadata": {},
   "outputs": [
    {
     "data": {
      "text/plain": [
       "(776.3672775461218, 776.36729)"
      ]
     },
     "execution_count": 44,
     "metadata": {},
     "output_type": "execute_result"
    }
   ],
   "source": [
    "np.sum(vals), np.sum(my_pmfg[:,2]*2)"
   ]
  },
  {
   "cell_type": "markdown",
   "id": "849f0408",
   "metadata": {},
   "source": [
    "## create distance without tie"
   ]
  },
  {
   "cell_type": "code",
   "execution_count": null,
   "id": "3e70ef5e",
   "metadata": {},
   "outputs": [],
   "source": []
  },
  {
   "cell_type": "code",
   "execution_count": 159,
   "id": "1e0e2263",
   "metadata": {},
   "outputs": [],
   "source": [
    "rng = np.random.default_rng(0)\n",
    "D = scipy.io.loadmat('datasets/iris-D-city.mat')['D']"
   ]
  },
  {
   "cell_type": "code",
   "execution_count": 160,
   "id": "2ba3a0a1",
   "metadata": {},
   "outputs": [
    {
     "data": {
      "text/plain": [
       "array([[0. , 0.7, 0.8, ..., 7.5, 7.3, 6.6],\n",
       "       [0.7, 0. , 0.5, ..., 7.2, 7.8, 6.3],\n",
       "       [0.8, 0.5, 0. , ..., 7.7, 7.9, 6.8],\n",
       "       ...,\n",
       "       [7.5, 7.2, 7.7, ..., 0. , 1.2, 0.9],\n",
       "       [7.3, 7.8, 7.9, ..., 1.2, 0. , 1.5],\n",
       "       [6.6, 6.3, 6.8, ..., 0.9, 1.5, 0. ]])"
      ]
     },
     "execution_count": 160,
     "metadata": {},
     "output_type": "execute_result"
    }
   ],
   "source": [
    "D"
   ]
  },
  {
   "cell_type": "code",
   "execution_count": 166,
   "id": "bf3c9703",
   "metadata": {},
   "outputs": [],
   "source": [
    "Drand = D + rng.random((150,150))/100\n",
    "np.fill_diagonal(Drand, 0)\n",
    "Drand = (Drand + Drand.T)/2\n",
    "S = 1./(1+Drand/(np.mean(abs(Drand))))\n",
    "np.savetxt(\"datasets/irisRand-D\" , Drand, delimiter = ' ')\n",
    "np.savetxt(\"datasets/irisRand-R\" , S, delimiter = ' ')\n",
    "scipy.io.savemat(\"datasets/irisRand.mat\" ,{\"D\":Drand, \"S\":S})\n",
    "# Z = scipy.cluster.hierarchy.linkage(scipy.spatial.distance.squareform(Drand) , method = \"complete\")\n",
    "# f, ax = plt.subplots(figsize=(20, 5))\n",
    "# dendrogram(Z);\n",
    "# print(sum(Z[:,2]))\n"
   ]
  },
  {
   "cell_type": "code",
   "execution_count": 162,
   "id": "2a758c93",
   "metadata": {},
   "outputs": [
    {
     "data": {
      "text/plain": [
       "array([[0.        , 0.70139871, 0.80468887, ..., 7.50608965, 7.30296635,\n",
       "        6.60496695],\n",
       "       [0.70139871, 0.        , 0.50330975, ..., 7.20918691, 7.80729707,\n",
       "        6.30683625],\n",
       "       [0.80468887, 0.50330975, 0.        , ..., 7.70311197, 7.9059134 ,\n",
       "        6.80418158],\n",
       "       ...,\n",
       "       [7.50608965, 7.20918691, 7.70311197, ..., 0.        , 1.20338224,\n",
       "        0.90674179],\n",
       "       [7.30296635, 7.80729707, 7.9059134 , ..., 1.20338224, 0.        ,\n",
       "        1.50548828],\n",
       "       [6.60496695, 6.30683625, 6.80418158, ..., 0.90674179, 1.50548828,\n",
       "        0.        ]])"
      ]
     },
     "execution_count": 162,
     "metadata": {},
     "output_type": "execute_result"
    }
   ],
   "source": [
    "Drand"
   ]
  },
  {
   "cell_type": "code",
   "execution_count": 208,
   "id": "77054d75",
   "metadata": {},
   "outputs": [
    {
     "data": {
      "text/plain": [
       "7.1000000000000005"
      ]
     },
     "execution_count": 208,
     "metadata": {},
     "output_type": "execute_result"
    }
   ],
   "source": [
    "D[89,117]"
   ]
  },
  {
   "cell_type": "code",
   "execution_count": 186,
   "id": "f92e54d4",
   "metadata": {},
   "outputs": [
    {
     "data": {
      "text/plain": [
       "11176"
      ]
     },
     "execution_count": 186,
     "metadata": {},
     "output_type": "execute_result"
    }
   ],
   "source": [
    "len(np.unique(Drand))"
   ]
  },
  {
   "cell_type": "code",
   "execution_count": 189,
   "id": "f9cf3e1a",
   "metadata": {},
   "outputs": [
    {
     "data": {
      "text/plain": [
       "11176.0"
      ]
     },
     "execution_count": 189,
     "metadata": {},
     "output_type": "execute_result"
    }
   ],
   "source": [
    "150 * 149/2 + 1"
   ]
  },
  {
   "cell_type": "markdown",
   "id": "b04d969c",
   "metadata": {},
   "source": [
    "## compare TMFG\n",
    "\n",
    "difference due to tie-breaking"
   ]
  },
  {
   "cell_type": "code",
   "execution_count": 178,
   "id": "3871b6ea",
   "metadata": {},
   "outputs": [],
   "source": [
    "c1=np.genfromtxt(\"./debug/matlab-tmfg\")\n",
    "c2=np.genfromtxt(\"./debug/irisRand-exact-peo-0\")"
   ]
  },
  {
   "cell_type": "code",
   "execution_count": 179,
   "id": "ac14475d",
   "metadata": {},
   "outputs": [],
   "source": [
    "for i in range(len(c1)):\n",
    "    if(c1[i]!= c2[i]):\n",
    "        print(i, c1[i], c2[i])"
   ]
  },
  {
   "cell_type": "markdown",
   "id": "b1578562",
   "metadata": {},
   "source": [
    "## compare outputs"
   ]
  },
  {
   "cell_type": "code",
   "execution_count": 23,
   "id": "a3ba8077",
   "metadata": {},
   "outputs": [],
   "source": [
    "from sklearn.metrics.cluster import adjusted_rand_score"
   ]
  },
  {
   "cell_type": "code",
   "execution_count": 235,
   "id": "916f55f3",
   "metadata": {},
   "outputs": [
    {
     "name": "stdout",
     "output_type": "stream",
     "text": [
      "[105. 121. 121. 121. 103. 114. 121. 103. 121. 121. 114. 103. 121. 121.\n",
      " 114. 114. 114. 105. 114. 114. 105. 114. 121. 103. 121. 121. 103. 105.\n",
      " 105. 121. 121. 105. 114. 114. 121. 103. 105. 121. 121. 103. 105. 121.\n",
      " 121. 103. 114. 121. 114. 121. 114. 103.  13.  13.  13.  27.  13.  27.\n",
      "  13.  91.  13.  27.  91.  27.  27.   5.  27.  13.  27.  27.  10.  42.\n",
      "   3.   8.  20.   5.  10.  13.  13.  13.   5.  42.  42.  42.  27.  20.\n",
      "  27.   5.  13.  10.  27.  42.  27.   5.  27.  91.  27.  27.  27.   8.\n",
      "  91.  27.  69.  20.  69.  58.  58.  86.  27.  86.  58.  69.  58.  58.\n",
      "  66.  20.  20.  66.  58.  86.  86.  20.  69.  20.  86.  20.  69.  69.\n",
      "   3.   3.  58.  69.  86.  86.  58.  20.  20.  86.  69.  58.   3.  66.\n",
      "  69.  66.  20.  69.  69.  66.  20.  58.  69.   3.]\n",
      "[11. 13. 13. 13. 10. 14. 13. 10. 13. 13. 14. 10. 13. 13. 14. 14. 14. 11.\n",
      " 14. 14. 11. 14. 13. 10. 13. 13. 10. 11. 11. 13. 13. 11. 14. 14. 13. 10.\n",
      " 11. 13. 13. 10. 11. 13. 13. 10. 14. 13. 14. 13. 14. 10.  6.  6.  6.  1.\n",
      "  6.  1.  6.  8.  6.  1.  8.  1.  1.  4.  1.  6.  1.  1.  3.  5.  7.  2.\n",
      "  9.  4.  3.  6.  6.  6.  4.  5.  5.  5.  1.  9.  1.  4.  6.  3.  1.  5.\n",
      "  1.  4.  1.  8.  1.  1.  1.  2.  8.  1. 16.  9. 16. 12. 12. 17.  1. 17.\n",
      " 12. 16. 12. 12. 15.  9.  9. 15. 12. 17. 17.  9. 16.  9. 17.  9. 16. 16.\n",
      "  7.  7. 12. 16. 17. 17. 12.  9.  9. 17. 16. 12.  7. 15. 16. 15.  9. 16.\n",
      " 16. 15.  9. 12. 16.  7.]\n"
     ]
    },
    {
     "data": {
      "text/plain": [
       "1.0"
      ]
     },
     "execution_count": 235,
     "metadata": {},
     "output_type": "execute_result"
    }
   ],
   "source": [
    "c1=np.genfromtxt(\"./debug/flat\")\n",
    "c2=np.genfromtxt(\"./outputs/dbht/iris-Rand-exact-T-17\")\n",
    "print(c1)\n",
    "print(c2)\n",
    "adjusted_rand_score(c1, c2)"
   ]
  },
  {
   "cell_type": "code",
   "execution_count": 237,
   "id": "5fa3377a",
   "metadata": {},
   "outputs": [
    {
     "data": {
      "text/plain": [
       "((array([63, 73, 78, 85, 91]),), (array([71, 97]),))"
      ]
     },
     "execution_count": 237,
     "metadata": {},
     "output_type": "execute_result"
    }
   ],
   "source": [
    "np.where(c1==5), np.where(c1==8)"
   ]
  },
  {
   "cell_type": "code",
   "execution_count": 205,
   "id": "d09bddf1",
   "metadata": {},
   "outputs": [
    {
     "data": {
      "text/plain": [
       "(42.0, 42.0, 86.0, 86.0)"
      ]
     },
     "execution_count": 205,
     "metadata": {},
     "output_type": "execute_result"
    }
   ],
   "source": [
    "c1[69], c1[89], c1[107], c1[130]"
   ]
  },
  {
   "cell_type": "code",
   "execution_count": 204,
   "id": "44b2deb9",
   "metadata": {},
   "outputs": [
    {
     "data": {
      "text/plain": [
       "(array([58., 58., 58.]), 5.0, 5.0, 17.0, 17.0)"
      ]
     },
     "execution_count": 204,
     "metadata": {},
     "output_type": "execute_result"
    }
   ],
   "source": [
    "c2[69], c2[89], c2[107], c2[130]"
   ]
  },
  {
   "cell_type": "code",
   "execution_count": 210,
   "id": "aac5150c",
   "metadata": {},
   "outputs": [
    {
     "data": {
      "text/plain": [
       "1.0"
      ]
     },
     "execution_count": 210,
     "metadata": {},
     "output_type": "execute_result"
    }
   ],
   "source": [
    "c1=np.genfromtxt(\"./debug/bb\")\n",
    "c2=np.genfromtxt(\"./debug/matlab-bbMem\")\n",
    "adjusted_rand_score(c1, c2)"
   ]
  },
  {
   "cell_type": "code",
   "execution_count": 192,
   "id": "c1c9aca9",
   "metadata": {},
   "outputs": [
    {
     "data": {
      "text/plain": [
       "array([108., 129., 121., 124., 107., 145., 143., 102., 146., 125., 144.,\n",
       "       116., 129., 137., 144., 145., 144., 108., 145., 136., 134., 139.,\n",
       "       143.,  99., 132., 130.,  99., 135., 133., 118., 118., 134., 142.,\n",
       "       142., 130., 112., 135., 130., 146., 101., 108., 146., 122.,  99.,\n",
       "       136., 129., 138., 131., 113., 112.,  17.,  23.,  17.,  35.,  15.,\n",
       "        96.,  23.,  97.,  13.,  51.,  91.,  40.,  53.,   7.,  49.,  12.,\n",
       "        41.,  53.,  81.,  38.,   4.,  25.,  20.,   7.,  54.,  11.,  16.,\n",
       "        48.,  52.,  89.,  89.,  89.,  53.,  87.,  41.,  52.,  48.,  81.,\n",
       "        49.,  38.,  96.,   1.,  53.,  97.,  96.,  30.,  28.,  22.,  97.,\n",
       "        26.,  76.,  45.,  78.,  88.,  62.,  94.,  96.,  84.,  88.,  93.,\n",
       "        56.,  55.,  64.,  46.,  47.,  72.,  63.,  95.,  94.,  87.,  93.,\n",
       "        46.,  94.,  19.,  74.,  79.,   6.,   6.,  61.,  79.,  84.,  95.,\n",
       "        62.,  82.,  87.,  85.,  76.,  59.,   3.,  67.,  74.,  66.,  45.,\n",
       "        93.,  75.,  72.,  19.,  57.,  76.,   4.])"
      ]
     },
     "execution_count": 192,
     "metadata": {},
     "output_type": "execute_result"
    }
   ],
   "source": [
    "c1"
   ]
  },
  {
   "cell_type": "code",
   "execution_count": 193,
   "id": "8cc257d2",
   "metadata": {},
   "outputs": [
    {
     "data": {
      "text/plain": [
       "array([ 87., 127.,  99.,  94.,  72., 128., 115.,  65., 122., 100., 129.,\n",
       "        83., 127., 124., 129., 128., 129.,  87., 128., 117.,  89., 108.,\n",
       "       115.,  57.,  83., 119.,  57.,  95.,  85.,  84.,  84.,  89., 125.,\n",
       "       125., 119.,  78.,  95., 119., 122.,  85.,  87., 122., 105.,  57.,\n",
       "       117., 127., 118., 106.,  96.,  78.,  50.,  44.,  50.,  20.,  40.,\n",
       "        14.,  44.,  53.,  37.,  21.,  46.,   6.,  19.,  23.,   3.,  32.,\n",
       "        11.,  19.,  35.,  30.,  48.,   7.,  56.,  23.,  31.,  28.,  45.,\n",
       "        49.,  36.,  39.,  39.,  39.,  19.,  63.,  11.,  36.,  49.,  35.,\n",
       "         3.,  20.,  14.,  29.,  19.,  53.,  14.,   2.,   5.,  16.,  53.,\n",
       "         4., 140.,  66., 135., 103., 110., 146.,  14., 141., 103., 136.,\n",
       "        76.,  71.,  98.,  70.,  75., 112.,  92., 147., 146.,  63., 136.,\n",
       "        70., 146.,  54., 137., 138.,  47.,  47., 102., 138., 142., 147.,\n",
       "       110.,  61.,  63., 144., 140.,  91.,  43., 120., 137., 111.,  66.,\n",
       "       136., 139., 112.,  54.,  80., 140.,  48.])"
      ]
     },
     "execution_count": 193,
     "metadata": {},
     "output_type": "execute_result"
    }
   ],
   "source": [
    "c2"
   ]
  },
  {
   "cell_type": "code",
   "execution_count": 201,
   "id": "90c52497",
   "metadata": {},
   "outputs": [
    {
     "data": {
      "text/plain": [
       "(38.0, 38.0, 84.0, 84.0)"
      ]
     },
     "execution_count": 201,
     "metadata": {},
     "output_type": "execute_result"
    }
   ],
   "source": [
    "c1[69], c1[89], c1[107], c1[130]"
   ]
  },
  {
   "cell_type": "code",
   "execution_count": 199,
   "id": "5e074519",
   "metadata": {},
   "outputs": [
    {
     "data": {
      "text/plain": [
       "(30.0, 20.0, 71.0, 76.0)"
      ]
     },
     "execution_count": 199,
     "metadata": {},
     "output_type": "execute_result"
    }
   ],
   "source": [
    "c2[69], c2[89], c2[107], c2[130]"
   ]
  },
  {
   "cell_type": "code",
   "execution_count": 196,
   "id": "aa5c1b57",
   "metadata": {},
   "outputs": [
    {
     "name": "stdout",
     "output_type": "stream",
     "text": [
      "89 38 30 20\n",
      "130 84 141 142\n"
     ]
    }
   ],
   "source": [
    "d = dict()\n",
    "for i in range(len(c1)):\n",
    "    if(c1[i] not in d):\n",
    "        d[c1[i]] = c2[i]\n",
    "    elif(d[c1[i]] != c2[i]):\n",
    "        print(i, int(c1[i]), int(d[c1[i]]), int(c2[i]))"
   ]
  },
  {
   "cell_type": "code",
   "execution_count": 198,
   "id": "d4780f35",
   "metadata": {},
   "outputs": [
    {
     "data": {
      "text/plain": [
       "(array([69, 89]),)"
      ]
     },
     "execution_count": 198,
     "metadata": {},
     "output_type": "execute_result"
    }
   ],
   "source": [
    "np.where(c1==38)"
   ]
  },
  {
   "cell_type": "code",
   "execution_count": 206,
   "id": "8c9c93cc",
   "metadata": {},
   "outputs": [],
   "source": [
    "# d"
   ]
  },
  {
   "cell_type": "markdown",
   "id": "77cc5cbc",
   "metadata": {},
   "source": [
    "### check denro"
   ]
  },
  {
   "cell_type": "code",
   "execution_count": 96,
   "id": "2cc7534d",
   "metadata": {},
   "outputs": [],
   "source": [
    "from scipy.cluster.hierarchy import dendrogram"
   ]
  },
  {
   "cell_type": "code",
   "execution_count": 98,
   "id": "b22b567e",
   "metadata": {},
   "outputs": [],
   "source": [
    "# https://github.com/scipy/scipy/blob/e4b3e6eb372b8c1d875f2adf607630a31e2a609c/scipy/cluster/hierarchy.py#L2286\n",
    "def _check_hierarchy_uses_cluster_before_formed(Z):\n",
    "    n = Z.shape[0] + 1\n",
    "    for i in range(0, n - 1):\n",
    "        if Z[i, 0] >= n + i or Z[i, 1] >= n + i:\n",
    "            print(i)\n",
    "            return True\n",
    "    return False"
   ]
  },
  {
   "cell_type": "code",
   "execution_count": 248,
   "id": "91b2bcc5",
   "metadata": {},
   "outputs": [],
   "source": [
    "Z = np.genfromtxt(\"debug/dendro2\")\n",
    "Z2 = np.genfromtxt(\"debug/matlabZ\")"
   ]
  },
  {
   "cell_type": "code",
   "execution_count": 249,
   "id": "f7f36f75",
   "metadata": {},
   "outputs": [
    {
     "data": {
      "text/plain": [
       "array([ 1.,  2.,  2.,  2.,  2.,  2.,  4.,  3.,  5.,  3.,  6.,  4.,  4.,\n",
       "        8.,  5., 12., 17.])"
      ]
     },
     "execution_count": 249,
     "metadata": {},
     "output_type": "execute_result"
    }
   ],
   "source": [
    "Z[-17:,2]"
   ]
  },
  {
   "cell_type": "code",
   "execution_count": 250,
   "id": "e9f91877",
   "metadata": {},
   "outputs": [
    {
     "data": {
      "text/plain": [
       "(149, 123.45843215092444, 123.45843209700001)"
      ]
     },
     "execution_count": 250,
     "metadata": {},
     "output_type": "execute_result"
    }
   ],
   "source": [
    "len(Z), sum(Z[:,2]), sum(Z2[:,2])"
   ]
  },
  {
   "cell_type": "code",
   "execution_count": 251,
   "id": "9f6eed72",
   "metadata": {},
   "outputs": [
    {
     "data": {
      "text/plain": [
       "False"
      ]
     },
     "execution_count": 251,
     "metadata": {},
     "output_type": "execute_result"
    }
   ],
   "source": [
    "_check_hierarchy_uses_cluster_before_formed(Z)"
   ]
  },
  {
   "cell_type": "code",
   "execution_count": 252,
   "id": "410f3213",
   "metadata": {},
   "outputs": [
    {
     "data": {
      "image/png": "[encoded data removed]",
      "text/plain": [
       "<Figure size 432x288 with 1 Axes>"
      ]
     },
     "metadata": {
      "needs_background": "light"
     },
     "output_type": "display_data"
    }
   ],
   "source": [
    "dendrogram(Z);"
   ]
  },
  {
   "cell_type": "markdown",
   "id": "9c5d4498",
   "metadata": {},
   "source": []
  },
  {
   "cell_type": "code",
   "execution_count": null,
   "id": "d58b6c1c",
   "metadata": {},
   "outputs": [],
   "source": []
  }
 ],
 "metadata": {
  "kernelspec": {
   "display_name": "Python 3 (ipykernel)",
   "language": "python",
   "name": "python3"
  },
  "language_info": {
   "codemirror_mode": {
    "name": "ipython",
    "version": 3
   },
   "file_extension": ".py",
   "mimetype": "text/x-python",
   "name": "python",
   "nbconvert_exporter": "python",
   "pygments_lexer": "ipython3",
   "version": "3.8.2"
  }
 },
 "nbformat": 4,
 "nbformat_minor": 5
}
